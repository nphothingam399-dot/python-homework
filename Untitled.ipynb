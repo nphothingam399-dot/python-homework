{
 "cells": [
  {
   "cell_type": "code",
   "execution_count": 1,
   "id": "7b2df489-d349-476d-ae96-3b6add9cd487",
   "metadata": {},
   "outputs": [
    {
     "name": "stdout",
     "output_type": "stream",
     "text": [
      "ณัฐวุฒิ โพธิ์งาม\n",
      "6812732105\n"
     ]
    }
   ],
   "source": [
    "print(\"ณัฐวุฒิ โพธิ์งาม\")\n",
    "print(\"6812732105\")"
   ]
  },
  {
   "cell_type": "code",
   "execution_count": null,
   "id": "ab11f22d-4093-47f1-9785-6cc471bee2c3",
   "metadata": {},
   "outputs": [],
   "source": []
  }
 ],
 "metadata": {
  "kernelspec": {
   "display_name": "Python [conda env:base] *",
   "language": "python",
   "name": "conda-base-py"
  },
  "language_info": {
   "codemirror_mode": {
    "name": "ipython",
    "version": 3
   },
   "file_extension": ".py",
   "mimetype": "text/x-python",
   "name": "python",
   "nbconvert_exporter": "python",
   "pygments_lexer": "ipython3",
   "version": "3.13.5"
  }
 },
 "nbformat": 4,
 "nbformat_minor": 5
}
